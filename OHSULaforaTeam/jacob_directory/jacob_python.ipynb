{
 "cells": [
  {
   "cell_type": "markdown",
   "metadata": {},
   "source": [
    "Here is the lafora monarch entry\n",
    "\n",
    "https://monarchinitiative.org/disease/OMIM:254780#overview\n",
    "\n",
    "http://www.ontobee.org/ontology/MONDO?iri=http://purl.obolibrary.org/obo/MONDO_0009697\n",
    "\n",
    "\n",
    "\n",
    "OMIM entry\n",
    "https://omim.org/entry/254780\n",
    "https://omim.org/graph/linear/254780"
   ]
  },
  {
   "cell_type": "markdown",
   "metadata": {},
   "source": [
    "String DB PUSH api tutorial !!!!\n",
    "\n",
    "SO basically youre gonna make this work if eilis and morreeen say yes. \n",
    "\n",
    "http://string-db.org/help/faq/\n",
    "\n",
    "http://string-db.org/cgi/help.pl"
   ]
  },
  {
   "cell_type": "markdown",
   "metadata": {},
   "source": [
    "\n",
    "\n",
    "ALSO!!!\n",
    "\n",
    "please inlcude the use of disease phenotype data such as **nervous system inclusion bodies** \n",
    "https://monarchinitiative.org/phenotype/MP:0014062\n",
    "\n",
    "\n",
    "Also a different gene is involved in early onset lafora\n",
    "https://www.ncbi.nlm.nih.gov/pubmed/22961547\n",
    "https://monarchinitiative.org/disease/MONDO:0014717#gene-causal"
   ]
  }
 ],
 "metadata": {
  "kernelspec": {
   "display_name": "Python 3",
   "language": "python",
   "name": "python3"
  },
  "language_info": {
   "codemirror_mode": {
    "name": "ipython",
    "version": 3
   },
   "file_extension": ".py",
   "mimetype": "text/x-python",
   "name": "python",
   "nbconvert_exporter": "python",
   "pygments_lexer": "ipython3",
   "version": "3.7.3"
  }
 },
 "nbformat": 4,
 "nbformat_minor": 2
}
